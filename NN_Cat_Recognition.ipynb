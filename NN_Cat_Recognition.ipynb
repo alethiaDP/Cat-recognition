{
  "cells": [
    {
      "cell_type": "code",
      "execution_count": 459,
      "metadata": {
        "id": "xBO1YuWZ3wt2"
      },
      "outputs": [],
      "source": [
        "#IMPORT LIBRARIES \n",
        "import numpy as np\n",
        "import h5py #to interact with dataset stored on an H5 file\n",
        "import matplotlib.pyplot as plt\n",
        " \n",
        "plt.rcParams['figure.figsize'] = (5.0, 4.0) # set default size of plots\n",
        "plt.rcParams['image.interpolation'] = 'nearest' #works when a small image is scaled up\n",
        "plt.rcParams['image.cmap'] = 'gray' #set the colormap to gray"
      ]
    },
    {
      "cell_type": "code",
      "execution_count": 460,
      "metadata": {
        "id": "gmvSrGND5Qpi"
      },
      "outputs": [],
      "source": [
        "#LOAD THE DATA\n",
        "def load_data():\n",
        "    train_dataset = h5py.File('train_catvnoncat.h5', \"r\")\n",
        "    train_set_x_orig = np.array(train_dataset[\"train_set_x\"][:]) # your train set features\n",
        "    train_set_y_orig = np.array(train_dataset[\"train_set_y\"][:]) # your train set labels\n",
        "\n",
        "    test_dataset = h5py.File('test_catvnoncat.h5', \"r\")\n",
        "    test_set_x_orig = np.array(test_dataset[\"test_set_x\"][:]) # your test set features\n",
        "    test_set_y_orig = np.array(test_dataset[\"test_set_y\"][:]) # your test set labels\n",
        "\n",
        "    classes = np.array(test_dataset[\"list_classes\"][:]) # the list of classes\n",
        "    \n",
        "    train_set_y_orig = train_set_y_orig.reshape((1, train_set_y_orig.shape[0]))\n",
        "    test_set_y_orig = test_set_y_orig.reshape((1, test_set_y_orig.shape[0]))\n",
        "    \n",
        "    return train_set_x_orig, train_set_y_orig, test_set_x_orig, test_set_y_orig, classes\n",
        "\n",
        "#LOAD THE DATA\n",
        "train_x_orig, train_y, test_x_orig, test_y, classes = load_data()"
      ]
    },
    {
      "cell_type": "code",
      "execution_count": 461,
      "metadata": {
        "colab": {
          "base_uri": "https://localhost:8080/",
          "height": 285
        },
        "id": "APeZ5NKB5rW4",
        "outputId": "462da16e-6761-4bcf-f171-1ef0a2beca62"
      },
      "outputs": [
        {
          "name": "stdout",
          "output_type": "stream",
          "text": [
            "y = 1. It's a catpicture.\n"
          ]
        },
        {
          "data": {
            "image/png": "[encoded data removed]",
            "text/plain": [
              "<Figure size 360x288 with 1 Axes>"
            ]
          },
          "metadata": {
            "needs_background": "light"
          },
          "output_type": "display_data"
        }
      ],
      "source": [
        "#SHOW A PICTURE\n",
        "index = 27 #number of the picture \n",
        "plt.imshow(train_x_orig[index])\n",
        "print (\"y = \" + str(train_y[0, index]) + \". It's a \" + classes[train_y[0, index]].decode(\"utf-8\") + \"picture.\")"
      ]
    },
    {
      "cell_type": "code",
      "execution_count": 462,
      "metadata": {
        "colab": {
          "base_uri": "https://localhost:8080/"
        },
        "id": "aswDH5T36kWo",
        "outputId": "a0954941-bf70-4668-a996-4ea98db9fb22"
      },
      "outputs": [
        {
          "name": "stdout",
          "output_type": "stream",
          "text": [
            "Number of training examples: 209\n",
            "Number of testing examples: 50\n",
            "Each image is of size: (64, 64, 3)\n",
            "train_x_orig shape: (209, 64, 64, 3)\n",
            "train_y shape: (1, 209)\n",
            "test_x_orig shape: (50, 64, 64, 3)\n",
            "test_y shape: (1, 50)\n"
          ]
        }
      ],
      "source": [
        "#EXPLORE THE DATA\n",
        "m_train = train_x_orig.shape[0] #training set\n",
        "num_px = train_x_orig.shape[1] #number of pixels\n",
        "m_test = test_x_orig.shape[0] #test set\n",
        "\n",
        "print (\"Number of training examples: \" + str(m_train))\n",
        "print (\"Number of testing examples: \" + str(m_test))\n",
        "print (\"Each image is of size: (\" + str(num_px) + \", \" + str(num_px) + \", 3)\")\n",
        "print (\"train_x_orig shape: \" + str(train_x_orig.shape))\n",
        "print (\"train_y shape: \" + str(train_y.shape))\n",
        "print (\"test_x_orig shape: \" + str(test_x_orig.shape))\n",
        "print (\"test_y shape: \" + str(test_y.shape))"
      ]
    },
    {
      "cell_type": "code",
      "execution_count": 463,
      "metadata": {
        "colab": {
          "base_uri": "https://localhost:8080/"
        },
        "id": "7zA_QAw867mQ",
        "outputId": "e92cbd2a-b7b9-425b-edef-e495bc4204a7"
      },
      "outputs": [
        {
          "name": "stdout",
          "output_type": "stream",
          "text": [
            "train_x's shape: (12288, 209)\n",
            "test_x's shape: (12288, 50)\n"
          ]
        }
      ],
      "source": [
        "#RESHAPE AND STANDARDIZE THE IMAGES\n",
        "train_x_flatten = train_x_orig.reshape(train_x_orig.shape[0], -1).T   # The \"-1\" flattens the remaining dimensions\n",
        "test_x_flatten = test_x_orig.reshape(test_x_orig.shape[0], -1).T\n",
        "\n",
        "#STANDARDIZE THE DATA (features go from 0 to 1)\n",
        "train_x = train_x_flatten / 255.\n",
        "test_x = test_x_flatten / 255.\n",
        "\n",
        "print (\"train_x's shape: \" + str(train_x.shape))\n",
        "print (\"test_x's shape: \" + str(test_x.shape))\n",
        "\n",
        "#The input is now a (64, 64, 3) image flattened to a vector size of (12288, 1)\n"
      ]
    },
    {
      "cell_type": "markdown",
      "metadata": {
        "id": "8Wff12gz91CT"
      },
      "source": [
        "DEEP LEARNING METHODOLOGY \n",
        "1.   Initialize parameters and define hyperparameters (parameters that control the ultimate parameters W and b\n",
        "2.   Training loop (for number of iterations)\n",
        "    *   Forward propagation\n",
        "    *   Cost function\n",
        "    *   Backward propagation\n",
        "    *   Update paramters\n",
        "3.   Use trained parameters to predict labels"
      ]
    },
    {
      "cell_type": "code",
      "execution_count": 464,
      "metadata": {
        "id": "Yqpf_-nf89vs"
      },
      "outputs": [],
      "source": [
        "#CONSTANTS IN THE MODEL\n",
        "n_x = 12288 # size of the input layer\n",
        "n_h = 7 #size of the hidden layer\n",
        "n_y = 1 #size of the ouput layer\n",
        "layers_dims = (n_x, n_h, n_y) #layer dimensions"
      ]
    },
    {
      "cell_type": "code",
      "execution_count": 465,
      "metadata": {
        "id": "ntbCzWyM6aLR"
      },
      "outputs": [],
      "source": [
        "#INITIALIZE PARAMETERS\n",
        "\n",
        "\"\"\" W = weights \n",
        "    b = bias \"\"\"\n",
        "\n",
        "def initialize_parameters(n_x, n_h, n_y):\n",
        "  np.random.seed(1)\n",
        "  \n",
        "  W1 = np.random.randn(n_h, n_x) * 0.01\n",
        "  b1 = np.zeros([n_h, 1])\n",
        "  W2 = np.random.randn(n_y, n_h) * 0.01\n",
        "  b2 = np.zeros([n_y, 1])\n",
        "\n",
        "  assert(W1.shape == (n_h, n_x))\n",
        "  assert(b1.shape == (n_h, 1))\n",
        "  assert(W2.shape == (n_y, n_h))\n",
        "  assert(b2.shape == (n_y, 1))\n",
        "\n",
        "  parameters = {\"W1\" : W1,\n",
        "                \"b1\" : b1,\n",
        "                \"W2\" : W2,\n",
        "                \"b2\" : b2}\n",
        "  return parameters"
      ]
    },
    {
      "cell_type": "code",
      "execution_count": 466,
      "metadata": {
        "colab": {
          "base_uri": "https://localhost:8080/"
        },
        "id": "GAefzGSKfdbf",
        "outputId": "6043c298-9105-4250-f670-b79dd7e04a36"
      },
      "outputs": [
        {
          "name": "stdout",
          "output_type": "stream",
          "text": [
            "W1 = [[ 0.01624345 -0.00611756]\n",
            " [-0.00528172 -0.01072969]]\n",
            "b1 = [[0.]\n",
            " [0.]]\n",
            "W2 = [[ 0.00865408 -0.02301539]]\n",
            "b2 = [[0.]]\n"
          ]
        }
      ],
      "source": [
        "parameters = initialize_parameters(2,2,1)\n",
        "print(\"W1 = \" + str(parameters[\"W1\"]))\n",
        "print(\"b1 = \" + str(parameters[\"b1\"]))\n",
        "print(\"W2 = \" + str(parameters[\"W2\"]))\n",
        "print(\"b2 = \" + str(parameters[\"b2\"]))"
      ]
    },
    {
      "cell_type": "markdown",
      "metadata": {
        "id": "m23lFfmEgHrx"
      },
      "source": [
        "LINEAR ACTIVATION FORWARD"
      ]
    },
    {
      "cell_type": "code",
      "execution_count": 467,
      "metadata": {
        "id": "2Z98P4sJfJgi"
      },
      "outputs": [],
      "source": [
        "# LINEAR FORWARD PROPAGATION\n",
        "\"\"\" A = activiations from previus layer\n",
        "    W = weights \n",
        "    b = bias\n",
        "\n",
        "    Z = the input of the activation function (hypothesis)\n",
        "\"\"\"\n",
        "def linear_forward(A, W, b):\n",
        "  Z = np.dot(W, A) + b\n",
        "\n",
        "  assert(Z.shape == (W.shape[0], A.shape[1]))\n",
        "  cache = (A, W, b)\n",
        "\n",
        "  return Z, cache"
      ]
    },
    {
      "cell_type": "code",
      "execution_count": 468,
      "metadata": {
        "id": "HlEgOQrJfsIm"
      },
      "outputs": [],
      "source": [
        "#ACTIVATION FUNCTIONS\n",
        "def sigmoid(Z):\n",
        "  s = 1 / (1 + np.exp(-Z))\n",
        "  cache = Z\n",
        "  return s, cache\n",
        "\n",
        "def relu(Z):\n",
        "  r = np.maximum(0, Z)\n",
        "  assert(r.shape == Z.shape)\n",
        "  cache = Z\n",
        "  return r, cache"
      ]
    },
    {
      "cell_type": "code",
      "execution_count": 469,
      "metadata": {
        "id": "vPyTWk7CfxdS"
      },
      "outputs": [],
      "source": [
        "#LINEAR ACTIVATION FORWARD\n",
        "\"\"\" A_prev = activation from previous layer\n",
        "    activation = activation used in current layer\n",
        "\"\"\"\n",
        "def linear_activation_forward(A_prev, W, b, activation):\n",
        "  if activation == \"sigmoid\":\n",
        "    Z, linear_cache = linear_forward(A_prev, W, b)\n",
        "    A, activation_cache = sigmoid(Z)\n",
        "    #print(activation_cache)\n",
        "\n",
        "  elif activation == \"relu\":\n",
        "    Z, linear_cache = linear_forward(A_prev, W, b)\n",
        "    A, activation_cache = relu(Z)\n",
        "    #print(activation_cache)\n",
        "\n",
        "  assert (A.shape == (W.shape[0], A_prev.shape[1]))\n",
        "  cache = (linear_cache, activation_cache)\n",
        "\n",
        "  #print(\"cache: \", cache)\n",
        "\n",
        "  return A, cache"
      ]
    },
    {
      "cell_type": "code",
      "execution_count": 470,
      "metadata": {
        "id": "xipwzdAgc8ba"
      },
      "outputs": [],
      "source": [
        "#L-LAYER MODEL\n",
        "\"\"\" X = data\n",
        "\"\"\"\n",
        "def L_model_forward(X, parameters):\n",
        "  caches = []\n",
        "  A = X\n",
        "  L = len(parameters) // 2\n",
        "  for l in range(1, L):\n",
        "    A_prev = A\n",
        "\n",
        "    #Linear RELU\n",
        "    A, cache = linear_activation_forward(A_prev,\n",
        "                                         parameters['W' + str(l)],\n",
        "                                         parameters['b' + str(l)],\n",
        "                                         activation = 'relu')\n",
        "    caches.append(cache)\n",
        "\n",
        "    #Linear SIGMOID\n",
        "    AL, cache = linear_activation_forward(A,\n",
        "                                          parameters['W' + str(L)],\n",
        "                                          parameters['b' + str(L)],\n",
        "                                          activation = 'sigmoid')\n",
        "    \n",
        "    caches.append(cache)\n",
        "\n",
        "    assert(AL.shape == (1, X.shape[1]))\n",
        "  return AL, caches"
      ]
    },
    {
      "cell_type": "markdown",
      "metadata": {
        "id": "OvrYr2BTgMAw"
      },
      "source": [
        "COMPUTE COST"
      ]
    },
    {
      "cell_type": "code",
      "execution_count": 471,
      "metadata": {
        "id": "VYUy-H7sf_K8"
      },
      "outputs": [],
      "source": [
        "#COST FUNCTION\n",
        "\n",
        "\"\"\" AL = probability vetor coresponding to your label predictions\n",
        "    Y = true \"label\" vector (0 or 1)\n",
        "\"\"\"\n",
        "\n",
        "def compute_cost(AL, Y):\n",
        "  m = Y.shape[1]\n",
        "  logprobs = np.multiply(np.log(AL),Y) +  np.multiply(np.log(1-AL), (1-Y))\n",
        "  cost = -1/m*np.sum(logprobs)\n",
        "  #cost = (-1 / m) * np.sum(np.multiply(Y, np.log(AL)) + np.multiply(1 - Y, np.log(1 - AL)))\n",
        "\n",
        "  cost = np.squeeze(cost)\n",
        "  assert(cost.shape == ())\n",
        "\n",
        "  return cost"
      ]
    },
    {
      "cell_type": "markdown",
      "metadata": {
        "id": "xOD1Tz6XgPnn"
      },
      "source": [
        "BACKWARD PROPAGATION"
      ]
    },
    {
      "cell_type": "code",
      "execution_count": 472,
      "metadata": {
        "id": "f3U_9d3GgDKl"
      },
      "outputs": [],
      "source": [
        "def sigmoid_backward(dA, activation_cache):\n",
        "  Z = activation_cache[1]\n",
        "  s = 1 / ( 1 + np.exp(-Z))\n",
        "  dZ = dA * s * (1 - s)\n",
        "  assert(dZ.shape == Z.shape)\n",
        "  return dZ\n",
        "\n",
        "def relu_backward(dA, activation_cache):\n",
        "  Z = activation_cache[1]\n",
        "  dZ = np.array(dA, copy = True)\n",
        "  dZ[Z <= 0] = 0\n",
        "  assert(dZ.shape == Z.shape)\n",
        "  return dZ"
      ]
    },
    {
      "cell_type": "code",
      "execution_count": 473,
      "metadata": {
        "id": "ECSbh4iPgq5L"
      },
      "outputs": [],
      "source": [
        "#LINEAR BACKWARD PROPAGATION\n",
        "\n",
        "\"\"\" dZ = gradient of the cost with respect to the linear output\n",
        "    cache = tuple of values coming from the forward propagation in the current layer\n",
        "\n",
        "    dA_prev = Gradient of the cost with respect to the activation of the previous layer\n",
        "    dW = Gradient of the cost with respect to W\n",
        "    db = Gradient of the cost with respect to b\n",
        "\"\"\"\n",
        "\n",
        "def linear_backward(dZ, cache):\n",
        "  A_prev, W, b = cache[0]\n",
        "  m = A_prev.shape[1]\n",
        "\n",
        "  #print(\"cache: \", cache)\n",
        "\n",
        "  dW = np.dot(dZ, A_prev.T) / m\n",
        "  db = np.squeeze(np.sum(dZ, axis=1, keepdims=True)) / m\n",
        "  dA_prev = np.dot(W.T, dZ)\n",
        "\n",
        "  assert (dA_prev.shape == A_prev.shape)\n",
        "  assert (dW.shape == W.shape)\n",
        "  #assert (isinstance(db, float))\n",
        "    \n",
        "  return dA_prev, dW, db"
      ]
    },
    {
      "cell_type": "code",
      "execution_count": 474,
      "metadata": {
        "id": "hvY7lxM9hSSg"
      },
      "outputs": [],
      "source": [
        "#LINEAR ACTIVATION BACKWARD\n",
        "\n",
        "def linear_activation_backward(dA, cache, activation):\n",
        "\n",
        "  if activation == 'relu':\n",
        "    dZ = relu_backward(dA, cache)\n",
        "  \n",
        "  elif activation == 'sigmoid':\n",
        "    dZ = sigmoid_backward(dA, cache)\n",
        "\n",
        "  dA_prev, dW, db = linear_backward(dZ, cache)\n",
        "\n",
        "  return dA_prev, dW, db"
      ]
    },
    {
      "cell_type": "markdown",
      "metadata": {
        "id": "sreOUOblhIRU"
      },
      "source": [
        "UPDATE PARAMETERS"
      ]
    },
    {
      "cell_type": "code",
      "execution_count": 475,
      "metadata": {
        "id": "O8JlmYohhH_g"
      },
      "outputs": [],
      "source": [
        "#UPDATE PARAMETERS\n",
        "\n",
        "def update_parameters(parameters, grads, learning_rate):\n",
        "  L = len(parameters) // 2 #number of layers in the neural network\n",
        "\n",
        "  for l in range(L):\n",
        "    parameters[\"W\" + str(l + 1)] = parameters[\"W\" + str(l + 1)] - learning_rate * grads[\"dW\" + str(l + 1)]\n",
        "    parameters[\"b\" + str(l + 1)] = parameters[\"b\" + str(l + 1)] - learning_rate * grads[\"db\" + str(l + 1)]\n",
        "\n",
        "  return parameters"
      ]
    },
    {
      "cell_type": "code",
      "execution_count": 476,
      "metadata": {
        "id": "OQBulSggAqBe"
      },
      "outputs": [],
      "source": [
        "#TWO LAYER NEURAL NETWORK\n",
        "\n",
        "\"\"\" X = input data, of shape (n_x, number of examples)\n",
        "      Y = true \\ false label vector, of shape (1, number of examples)\n",
        "      layers_dims = dimensions of the layers (n_x, n_h, n_y)\n",
        "      num_iterations = number of iterations of the optimization loop\n",
        "      learning_rate = learning rate of the gradient descent update rule\n",
        "      print_cost = If set to True, this will print the cost every 100 iterations \n",
        "      parameters = a dictionary containing W1, W2, b1, and b2\n",
        "\"\"\"\n",
        "\n",
        "def two_layer_model(X, Y, layers_dims, learning_rate, num_iterations, print_cost=False):   \n",
        "  np.random.seed(1)\n",
        "  grads = {}\n",
        "  costs = []                              \n",
        "  m = X.shape[1] # number of examples\n",
        "    \n",
        "  parameters = initialize_parameters(n_x, n_h, n_y)\n",
        "   \n",
        "  W1 = parameters[\"W1\"]\n",
        "  b1 = parameters[\"b1\"]\n",
        "  W2 = parameters[\"W2\"]\n",
        "  b2 = parameters[\"b2\"]\n",
        " \n",
        "# Gradient descent\n",
        "\n",
        "  for i in range(0, num_iterations):\n",
        "\n",
        "  # Forward propagation\n",
        "    A1, cache1 = linear_activation_forward(X, W1, b1, 'relu')\n",
        "    A2, cache2 = linear_activation_forward(A1, W2, b2, 'sigmoid')\n",
        "\n",
        "    # Cost\n",
        "    cost = compute_cost(A2, Y)\n",
        "\n",
        "    # Backward propagation\n",
        "    dA2 = - (np.divide(Y, A2) - np.divide(1 - Y, 1 - A2))\n",
        "    \n",
        "    dA1, dW2, db2 = linear_activation_backward(dA2, cache2, 'sigmoid')\n",
        "    dA0, dW1, db1 = linear_activation_backward(dA1, cache1, 'relu')\n",
        "\n",
        "    auxdb1 = db1\n",
        "    auxdb1 = np.reshape(auxdb1, (7,1))\n",
        "    auxdb2 = db2\n",
        "    auxdb2 = np.reshape(auxdb2, (1,1))\n",
        "    db1 = auxdb1\n",
        "    db2 = auxdb2\n",
        "    \n",
        "    grads['dW1'] = dW1\n",
        "    grads['db1'] = db1\n",
        "    grads['dW2'] = dW2\n",
        "    grads['db2'] = db2\n",
        "\n",
        "    # Update parameters.\n",
        "    parameters = update_parameters(parameters, grads, learning_rate)\n",
        "\n",
        "    W1 = parameters[\"W1\"]\n",
        "    b1 = parameters[\"b1\"]\n",
        "    W2 = parameters[\"W2\"]\n",
        "    b2 = parameters[\"b2\"]\n",
        "    \n",
        "    # Print the cost every 100 training example\n",
        "    if print_cost and i % 100 == 0:\n",
        "        print(\"Cost after iteration {}: {}\".format(i, np.squeeze(cost)))\n",
        "        costs.append(cost)\n",
        "       \n",
        "  # plot the cos\n",
        "  plt.plot(np.squeeze(costs))\n",
        "  plt.ylabel('cost')\n",
        "  plt.xlabel('iterations (per tens)')\n",
        "  plt.title(\"Learning rate =\" + str(learning_rate))\n",
        "  plt.show()\n",
        "  \n",
        "  return parameters"
      ]
    },
    {
      "cell_type": "code",
      "execution_count": 477,
      "metadata": {
        "colab": {
          "base_uri": "https://localhost:8080/",
          "height": 729
        },
        "id": "ceRJebc27Y30",
        "outputId": "2473eabf-0643-4539-9b79-1ac4ce4a6816"
      },
      "outputs": [
        {
          "name": "stdout",
          "output_type": "stream",
          "text": [
            "Cost after iteration 0: 0.693049735659989\n",
            "Cost after iteration 100: 0.6470566917793795\n",
            "Cost after iteration 200: 0.6351119496816243\n",
            "Cost after iteration 300: 0.6090111284723495\n",
            "Cost after iteration 400: 0.5716612513844933\n",
            "Cost after iteration 500: 0.5309913010907248\n",
            "Cost after iteration 600: 0.4890291801302887\n",
            "Cost after iteration 700: 0.45384881137073496\n",
            "Cost after iteration 800: 0.3918905247026613\n",
            "Cost after iteration 900: 0.37230441282036447\n",
            "Cost after iteration 1000: 0.3538361575423492\n",
            "Cost after iteration 1100: 0.3158701526788494\n",
            "Cost after iteration 1200: 0.27467785691121516\n",
            "Cost after iteration 1300: 0.21594038823022518\n",
            "Cost after iteration 1400: 0.21207540427288146\n",
            "Cost after iteration 1500: 0.1997886265733261\n",
            "Cost after iteration 1600: 0.14591891071053587\n",
            "Cost after iteration 1700: 0.12765784720887882\n",
            "Cost after iteration 1800: 0.1116853226972328\n",
            "Cost after iteration 1900: 0.09651552314020818\n",
            "Cost after iteration 2000: 0.08343023469313252\n",
            "Cost after iteration 2100: 0.07452031905846636\n",
            "Cost after iteration 2200: 0.06732697874775423\n",
            "Cost after iteration 2300: 0.06052583467680286\n",
            "Cost after iteration 2400: 0.05495015306421323\n"
          ]
        },
        {
          "data": {
            "image/png": "[encoded data removed]",
            "text/plain": [
              "<Figure size 360x288 with 1 Axes>"
            ]
          },
          "metadata": {
            "needs_background": "light"
          },
          "output_type": "display_data"
        }
      ],
      "source": [
        "parameters = two_layer_model(train_x, train_y, (n_x, n_h, n_y), 0.007, 2500, print_cost = True)"
      ]
    },
    {
      "cell_type": "code",
      "execution_count": 478,
      "metadata": {
        "id": "zBgCxO5fco56"
      },
      "outputs": [],
      "source": [
        "def predict(X, y, parameters):\n",
        "  m = X.shape[1]\n",
        "  n = len(parameters) // 2 # number of layers in the neural network\n",
        "  p = np.zeros((1,m))\n",
        "\n",
        "  # Forward propagation\n",
        "  probability, caches = L_model_forward(X, parameters)\n",
        "\n",
        "  # convert probas to 0/1 predictions\n",
        "  for i in range(0, probability.shape[1]):\n",
        "      if probability[0,i] > 0.5:\n",
        "          p[0,i] = 1\n",
        "      else:\n",
        "          p[0,i] = 0\n",
        "\n",
        "  print(\"Accuracy: \"  + str(np.sum((p == y)/m)))\n",
        "      \n",
        "  return p"
      ]
    },
    {
      "cell_type": "code",
      "execution_count": 479,
      "metadata": {
        "colab": {
          "base_uri": "https://localhost:8080/"
        },
        "id": "BXUv31Ivco0U",
        "outputId": "c054ad86-7584-41b0-d23a-dd5ef4c4e44f"
      },
      "outputs": [
        {
          "name": "stdout",
          "output_type": "stream",
          "text": [
            "Accuracy: 0.9904306220095692\n"
          ]
        }
      ],
      "source": [
        "predictions_train = predict(train_x, train_y, parameters)"
      ]
    },
    {
      "cell_type": "code",
      "execution_count": 480,
      "metadata": {
        "colab": {
          "base_uri": "https://localhost:8080/"
        },
        "id": "JOyHoHGacuyP",
        "outputId": "6ebeab8b-d081-4bf5-ad1a-d688a6c0d49a"
      },
      "outputs": [
        {
          "name": "stdout",
          "output_type": "stream",
          "text": [
            "Accuracy: 0.72\n"
          ]
        }
      ],
      "source": [
        "predictions_test = predict(test_x, test_y, parameters)"
      ]
    },
    {
      "cell_type": "code",
      "execution_count": 482,
      "metadata": {},
      "outputs": [
        {
          "name": "stdout",
          "output_type": "stream",
          "text": [
            "Accuracy: 1.0\n",
            "y = 1.0, The model predicts a \"cat\" picture.\n"
          ]
        },
        {
          "data": {
            "image/png": "[encoded data removed]",
            "text/plain": [
              "<Figure size 360x288 with 1 Axes>"
            ]
          },
          "metadata": {
            "needs_background": "light"
          },
          "output_type": "display_data"
        }
      ],
      "source": [
        "import imageio\n",
        "from skimage.transform import resize\n",
        "\n",
        "my_image = \"duquesa_som.jpg\" # change this to the name of your image file \n",
        "my_label_y = [1] # the true class of your image (1 -> cat, 0 -> non-cat)\n",
        "\n",
        "fname = \"images/\" + my_image\n",
        "im = imageio.imread(fname)\n",
        "im = resize(im, (64,64)) \n",
        "image = np.array(im)\n",
        "image = image / 255.\n",
        "num_px = 64\n",
        "my_image = image.reshape((num_px*num_px*3, 1)) # WITHOUT RESIZE\n",
        "my_image_prediction = predict(my_image, my_label_y, parameters) \n",
        "\n",
        "plt.imshow(im)\n",
        "print (\"y = \" + str(np.squeeze(my_image_prediction)) + \", The model predicts a \\\"\" + classes[int(np.squeeze(my_image_prediction)),].decode(\"utf-8\") +  \"\\\" picture.\")"
      ]
    }
  ],
  "metadata": {
    "colab": {
      "collapsed_sections": [],
      "name": "DNN_Cat Recognition.ipynb",
      "provenance": []
    },
    "interpreter": {
      "hash": "a88d9eb88a465d68ba99da31c5d69f7fe77b53c33fa08ad77a4f4adbacfdbfa3"
    },
    "kernelspec": {
      "display_name": "Python 3.8.3 ('base')",
      "language": "python",
      "name": "python3"
    },
    "language_info": {
      "codemirror_mode": {
        "name": "ipython",
        "version": 3
      },
      "file_extension": ".py",
      "mimetype": "text/x-python",
      "name": "python",
      "nbconvert_exporter": "python",
      "pygments_lexer": "ipython3",
      "version": "3.8.3"
    }
  },
  "nbformat": 4,
  "nbformat_minor": 0
}
